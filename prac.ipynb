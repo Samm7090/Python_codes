{
 "cells": [
  {
   "cell_type": "markdown",
   "id": "f5238867",
   "metadata": {},
   "source": [
    "Write a function to return Fibonacci sequence up to n terms"
   ]
  },
  {
   "cell_type": "code",
   "execution_count": 10,
   "id": "cbb55e18",
   "metadata": {},
   "outputs": [
    {
     "data": {
      "text/plain": [
       "'def fibbonacci(n):\\n    sequence=[]\\n    a,b=0,1\\n\\n    for _ in range(n):\\n        sequence.append(a)\\n        a,b=b,a+b\\n\\n    return sequence\\n\\n\\nprint(\"fibbonacci series\" ,fibbonacci(10))'"
      ]
     },
     "execution_count": 10,
     "metadata": {},
     "output_type": "execute_result"
    }
   ],
   "source": [
    "'''def fibbonacci(n):\n",
    "    sequence=[]\n",
    "    a,b=0,1\n",
    "\n",
    "    for _ in range(n):\n",
    "        sequence.append(a)\n",
    "        a,b=b,a+b\n",
    "\n",
    "    return sequence\n",
    "\n",
    "\n",
    "print(\"fibbonacci series\" ,fibbonacci(10))'''"
   ]
  },
  {
   "cell_type": "markdown",
   "id": "2c3d391c",
   "metadata": {},
   "source": [
    "Write a program to check if a number is prime"
   ]
  },
  {
   "cell_type": "code",
   "execution_count": 11,
   "id": "03ae5077",
   "metadata": {},
   "outputs": [
    {
     "data": {
      "text/plain": [
       "'def prime(n):\\n    if n<=1:\\n        return False\\n\\n    for i in range(2,int(n**0.5)+1):\\n        if n%i==0:\\n            return False\\n    return True\\n\\n\\n\\nnum=int(input(\"Enter number: \"))\\nif prime(num):\\n    print(f\"{num} is prime number\")\\n\\nelse:\\n    print(f\"{num} is not a prime number\")'"
      ]
     },
     "execution_count": 11,
     "metadata": {},
     "output_type": "execute_result"
    }
   ],
   "source": [
    "'''def prime(n):\n",
    "    if n<=1:\n",
    "        return False\n",
    "    \n",
    "    for i in range(2,int(n**0.5)+1):\n",
    "        if n%i==0:\n",
    "            return False\n",
    "    return True\n",
    "\n",
    "\n",
    "\n",
    "num=int(input(\"Enter number: \"))\n",
    "if prime(num):\n",
    "    print(f\"{num} is prime number\")\n",
    "\n",
    "else:\n",
    "    print(f\"{num} is not a prime number\")'''"
   ]
  },
  {
   "cell_type": "code",
   "execution_count": null,
   "id": "a0d1cd36",
   "metadata": {},
   "outputs": [],
   "source": []
  },
  {
   "cell_type": "markdown",
   "id": "0e3f7dcc",
   "metadata": {},
   "source": [
    "Implement a stack and a queue using Python lists"
   ]
  },
  {
   "cell_type": "markdown",
   "id": "9f59cde7",
   "metadata": {},
   "source": [
    "Stack (LIFO)"
   ]
  },
  {
   "cell_type": "code",
   "execution_count": null,
   "id": "526369b9",
   "metadata": {},
   "outputs": [
    {
     "name": "stdout",
     "output_type": "stream",
     "text": [
      "pushed 10\n",
      "pushed 20\n",
      "pushed 30\n",
      "Top element: 30\n",
      "Popped: 30\n",
      "Stack size: 2\n"
     ]
    }
   ],
   "source": [
    "'''class Stack:\n",
    "    def __init__(self):\n",
    "        self.stack=[]\n",
    "\n",
    "    def push(self,item):\n",
    "        self.stack.append(item)\n",
    "        print(f\"pushed {item}\")\n",
    "\n",
    "    def pop(self):\n",
    "        if not self.is_empty():\n",
    "            return self.stack.pop()      # pop the last element\n",
    "        return \"Empty Stack\"\n",
    "    \n",
    "    def peek(self):\n",
    "        if not self.is_empty():\n",
    "            return self.stack[-1]\n",
    "        return \"Empty Stack\"\n",
    "    \n",
    "    def is_empty(self):\n",
    "        return len(self.stack)==0\n",
    "    \n",
    "    def size(self):\n",
    "        return len(self.stack)\n",
    "    \n",
    "\n",
    "\n",
    "s = Stack()\n",
    "s.push(10)\n",
    "s.push(20)\n",
    "s.push(30)\n",
    "print(\"Top element:\", s.peek())\n",
    "print(\"Popped:\", s.pop())\n",
    "print(\"Stack size:\", s.size())'''"
   ]
  },
  {
   "cell_type": "code",
   "execution_count": null,
   "id": "415c446e",
   "metadata": {},
   "outputs": [],
   "source": []
  },
  {
   "cell_type": "markdown",
   "id": "831285da",
   "metadata": {},
   "source": [
    "Queue (LIFO)"
   ]
  },
  {
   "cell_type": "code",
   "execution_count": null,
   "id": "2a4a52e6",
   "metadata": {},
   "outputs": [
    {
     "name": "stdout",
     "output_type": "stream",
     "text": [
      "10 pushed\n",
      "20 pushed\n",
      "30 pushed\n",
      "Front element: 10\n",
      "Dequeued: 10\n",
      "Queue size: 2\n"
     ]
    }
   ],
   "source": [
    "'''class Queue:\n",
    "    def __init__(self):\n",
    "        self.queue=[]\n",
    "\n",
    "    def enqueue(self,item):\n",
    "        self.queue.append(item)\n",
    "        print(f\"{item} pushed\")\n",
    "\n",
    "    def dequeue(self):\n",
    "        if not self.is_empty():\n",
    "            return self.queue.pop(0)      #pop the first element\n",
    "        return \"Empty Queue\"\n",
    "    \n",
    "    def peek(self):\n",
    "        if not self.is_empty():\n",
    "            return self.queue[0]\n",
    "        return \"Empty Queue\"\n",
    "    \n",
    "    def is_empty(self):\n",
    "        return len(self.queue)==0\n",
    "    \n",
    "    def size(self):\n",
    "        return len(self.queue)\n",
    "    \n",
    "\n",
    "q = Queue()\n",
    "q.enqueue(10)\n",
    "q.enqueue(20)\n",
    "q.enqueue(30)\n",
    "print(\"Front element:\", q.peek())\n",
    "print(\"Dequeued:\", q.dequeue())\n",
    "print(\"Queue size:\", q.size())'''"
   ]
  },
  {
   "cell_type": "code",
   "execution_count": null,
   "id": "19be78e7",
   "metadata": {},
   "outputs": [],
   "source": []
  },
  {
   "cell_type": "markdown",
   "id": "4097dbd3",
   "metadata": {},
   "source": [
    "Find duplicate numbers in a list"
   ]
  },
  {
   "cell_type": "code",
   "execution_count": null,
   "id": "7c468766",
   "metadata": {},
   "outputs": [
    {
     "name": "stdout",
     "output_type": "stream",
     "text": [
      "3 is Duplicate value\n",
      "4 is Duplicate value\n"
     ]
    }
   ],
   "source": [
    "'''def duplicate_lst(num):\n",
    "    \n",
    "    num_lst=list(str(num))  # convert number to list of digits as strings\n",
    "\n",
    "    for i in range(len(num_lst)):\n",
    "        for j in range(i+1,len(num_lst)):\n",
    "            if num_lst[i]==num_lst[j]:\n",
    "                print(f\"{num_lst[i]} is Duplicate value\")\n",
    "    return None       \n",
    "\n",
    "num1=123434\n",
    "duplicate_lst(num1)'''"
   ]
  },
  {
   "cell_type": "code",
   "execution_count": null,
   "id": "2e87a773",
   "metadata": {},
   "outputs": [],
   "source": []
  },
  {
   "cell_type": "markdown",
   "id": "a89132fc",
   "metadata": {},
   "source": [
    "Implement a decorator to measure the execution time of a function"
   ]
  },
  {
   "cell_type": "code",
   "execution_count": null,
   "id": "2783a5f1",
   "metadata": {},
   "outputs": [
    {
     "name": "stdout",
     "output_type": "stream",
     "text": [
      "Execution time: 0.034997 seconds\n",
      "Result: 499999500000\n"
     ]
    }
   ],
   "source": [
    "'''import time\n",
    "\n",
    "def timing_decorator(func):\n",
    "    def wrapper(*args, **kwargs):\n",
    "        start_time = time.time()           # record start time\n",
    "        result = func(*args, **kwargs)     # call the original function\n",
    "        end_time = time.time()             # record end time\n",
    "        print(f\"Execution time: {end_time - start_time:.6f} seconds\")\n",
    "        return result\n",
    "    return wrapper\n",
    "\n",
    "# Example usage\n",
    "@timing_decorator\n",
    "def slow_function():\n",
    "    total = 0\n",
    "    for i in range(1_000_000):\n",
    "        total += i\n",
    "    return total\n",
    "\n",
    "print(\"Result:\", slow_function())'''\n"
   ]
  },
  {
   "cell_type": "code",
   "execution_count": null,
   "id": "7f63e33e",
   "metadata": {},
   "outputs": [],
   "source": []
  },
  {
   "cell_type": "markdown",
   "id": "20803478",
   "metadata": {},
   "source": [
    "Write a generator that returns infinite even numbers"
   ]
  },
  {
   "cell_type": "code",
   "execution_count": null,
   "id": "e1a86c5a",
   "metadata": {},
   "outputs": [
    {
     "name": "stdout",
     "output_type": "stream",
     "text": [
      "setp 1\n",
      "10\n",
      "setp 2\n",
      "20\n"
     ]
    }
   ],
   "source": [
    "'''def generator_1():\n",
    "    print(\"setp 1\")\n",
    "    yield 10\n",
    "    print(\"setp 2\")\n",
    "    yield 20\n",
    "    print(\"setp 3\")\n",
    "    yield 30\n",
    "\n",
    "\n",
    "gen=generator_1()\n",
    "print(next(gen))\n",
    "print(next(gen))'''"
   ]
  },
  {
   "cell_type": "code",
   "execution_count": null,
   "id": "c270c909",
   "metadata": {},
   "outputs": [
    {
     "name": "stdout",
     "output_type": "stream",
     "text": [
      "0\n",
      "2\n",
      "4\n",
      "6\n",
      "8\n",
      "10\n",
      "12\n",
      "14\n",
      "16\n",
      "18\n"
     ]
    }
   ],
   "source": [
    "'''def even_number():\n",
    "    n=0\n",
    "    while True:\n",
    "        yield n\n",
    "        n += 2\n",
    "\n",
    "gen=even_number()\n",
    "for _ in range(10):\n",
    "    print(next(gen))'''"
   ]
  },
  {
   "cell_type": "code",
   "execution_count": null,
   "id": "d0998b28",
   "metadata": {},
   "outputs": [],
   "source": []
  },
  {
   "cell_type": "markdown",
   "id": "3e69b375",
   "metadata": {},
   "source": [
    "Write a function that flattens a nested list"
   ]
  },
  {
   "cell_type": "code",
   "execution_count": null,
   "id": "e6e98699",
   "metadata": {},
   "outputs": [
    {
     "name": "stdout",
     "output_type": "stream",
     "text": [
      "[1, 2, 3, 4, 5, 6, 7, 8, 9]\n"
     ]
    }
   ],
   "source": [
    "'''def flatten_list(nested_list):\n",
    "    for item in nested_list:\n",
    "        if isinstance(item,list):\n",
    "            yield from flatten_list(item)\n",
    "\n",
    "        else:\n",
    "            yield item\n",
    "\n",
    "\n",
    "data=[1, [2, [3, 4], 5], 6, [7, [8, [9]]]]\n",
    "print(list(flatten_list(data)))'''"
   ]
  },
  {
   "cell_type": "code",
   "execution_count": null,
   "id": "186ac2c6",
   "metadata": {},
   "outputs": [],
   "source": []
  },
  {
   "cell_type": "markdown",
   "id": "3333fb4d",
   "metadata": {},
   "source": [
    "Implement a basic class inheritance (e.g., Shape → Circle/Square)"
   ]
  },
  {
   "cell_type": "code",
   "execution_count": 10,
   "id": "812ca007",
   "metadata": {},
   "outputs": [],
   "source": [
    "class Shape:\n",
    "    def __init__(self, color):\n",
    "        self.color = color\n",
    "\n",
    "    def area(self):\n",
    "        raise NotImplementedError(\"Subclasses must implement area() method\")\n",
    "\n",
    "    def perimeter(self):\n",
    "        raise NotImplementedError(\"Subclasses must implement perimeter() method\")"
   ]
  },
  {
   "cell_type": "code",
   "execution_count": 12,
   "id": "57def0aa",
   "metadata": {},
   "outputs": [
    {
     "name": "stdout",
     "output_type": "stream",
     "text": [
      "Circle color: red, Area: 78.54, Perimeter: 31.42\n",
      "Square color: blue, Area: 16, Perimeter: 16\n"
     ]
    }
   ],
   "source": [
    "import math\n",
    "\n",
    "class Circle(Shape):\n",
    "    def __init__(self, color, radius):\n",
    "        super().__init__(color)  # call base class constructor\n",
    "        self.radius = radius\n",
    "\n",
    "    def area(self):\n",
    "        return math.pi * (self.radius ** 2)\n",
    "\n",
    "    def perimeter(self):\n",
    "        return 2 * math.pi * self.radius\n",
    "    \n",
    "\n",
    "class Square(Shape):\n",
    "    def __init__(self, color, side):\n",
    "        super().__init__(color)\n",
    "        self.side = side\n",
    "\n",
    "    def area(self):\n",
    "        return self.side ** 2\n",
    "\n",
    "    def perimeter(self):\n",
    "        return 4 * self.side\n",
    "    \n",
    "\n",
    "circle = Circle(\"red\", 5)\n",
    "square = Square(\"blue\", 4)\n",
    "\n",
    "print(f\"Circle color: {circle.color}, Area: {circle.area():.2f}, Perimeter: {circle.perimeter():.2f}\")\n",
    "print(f\"Square color: {square.color}, Area: {square.area()}, Perimeter: {square.perimeter()}\")\n"
   ]
  },
  {
   "cell_type": "code",
   "execution_count": null,
   "id": "70c8f05b",
   "metadata": {},
   "outputs": [],
   "source": []
  },
  {
   "cell_type": "markdown",
   "id": "438bffbb",
   "metadata": {},
   "source": [
    "Multiple Derived Classes (Vehicle → Car / Bike)"
   ]
  },
  {
   "cell_type": "code",
   "execution_count": 15,
   "id": "d0c60b46",
   "metadata": {},
   "outputs": [
    {
     "name": "stdout",
     "output_type": "stream",
     "text": [
      "Toyota vehicle started \n",
      "Trunk Opened\n",
      "Yamaha vehicle started \n",
      "Bike Started\n"
     ]
    }
   ],
   "source": [
    "class Vehicle():\n",
    "    def __init__(self,brand):\n",
    "        self.brand=brand\n",
    "\n",
    "    def start(self):\n",
    "        print(f\"{self.brand} vehicle started \")\n",
    "\n",
    "class car(Vehicle):\n",
    "    def open_trunk(self):\n",
    "        print(\"Trunk Opened\")\n",
    "\n",
    "class bike(Vehicle):\n",
    "    def kick_start(self):\n",
    "        print(\"Bike Started\")\n",
    "\n",
    "\n",
    "car = car(\"Toyota\")\n",
    "car.start()\n",
    "car.open_trunk()\n",
    "\n",
    "bike = bike(\"Yamaha\")\n",
    "bike.start()\n",
    "bike.kick_start()"
   ]
  },
  {
   "cell_type": "code",
   "execution_count": null,
   "id": "93bf8657",
   "metadata": {},
   "outputs": [],
   "source": []
  },
  {
   "cell_type": "code",
   "execution_count": null,
   "id": "e85deaab",
   "metadata": {},
   "outputs": [],
   "source": []
  },
  {
   "cell_type": "code",
   "execution_count": null,
   "id": "69ea174f",
   "metadata": {},
   "outputs": [],
   "source": []
  },
  {
   "cell_type": "code",
   "execution_count": null,
   "id": "0b3cc75b",
   "metadata": {},
   "outputs": [],
   "source": []
  },
  {
   "cell_type": "code",
   "execution_count": null,
   "id": "136bd9b1",
   "metadata": {},
   "outputs": [],
   "source": []
  }
 ],
 "metadata": {
  "kernelspec": {
   "display_name": "Python 3",
   "language": "python",
   "name": "python3"
  },
  "language_info": {
   "codemirror_mode": {
    "name": "ipython",
    "version": 3
   },
   "file_extension": ".py",
   "mimetype": "text/x-python",
   "name": "python",
   "nbconvert_exporter": "python",
   "pygments_lexer": "ipython3",
   "version": "3.12.10"
  }
 },
 "nbformat": 4,
 "nbformat_minor": 5
}
