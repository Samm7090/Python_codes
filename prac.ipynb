{
 "cells": [
  {
   "cell_type": "markdown",
   "id": "f5238867",
   "metadata": {},
   "source": [
    "Write a function to return Fibonacci sequence up to n terms"
   ]
  },
  {
   "cell_type": "code",
   "execution_count": 10,
   "id": "cbb55e18",
   "metadata": {},
   "outputs": [
    {
     "data": {
      "text/plain": [
       "'def fibbonacci(n):\\n    sequence=[]\\n    a,b=0,1\\n\\n    for _ in range(n):\\n        sequence.append(a)\\n        a,b=b,a+b\\n\\n    return sequence\\n\\n\\nprint(\"fibbonacci series\" ,fibbonacci(10))'"
      ]
     },
     "execution_count": 10,
     "metadata": {},
     "output_type": "execute_result"
    }
   ],
   "source": [
    "'''def fibbonacci(n):\n",
    "    sequence=[]\n",
    "    a,b=0,1\n",
    "\n",
    "    for _ in range(n):\n",
    "        sequence.append(a)\n",
    "        a,b=b,a+b\n",
    "\n",
    "    return sequence\n",
    "\n",
    "\n",
    "print(\"fibbonacci series\" ,fibbonacci(10))'''"
   ]
  },
  {
   "cell_type": "markdown",
   "id": "2c3d391c",
   "metadata": {},
   "source": [
    "Write a program to check if a number is prime"
   ]
  },
  {
   "cell_type": "code",
   "execution_count": 11,
   "id": "03ae5077",
   "metadata": {},
   "outputs": [
    {
     "data": {
      "text/plain": [
       "'def prime(n):\\n    if n<=1:\\n        return False\\n\\n    for i in range(2,int(n**0.5)+1):\\n        if n%i==0:\\n            return False\\n    return True\\n\\n\\n\\nnum=int(input(\"Enter number: \"))\\nif prime(num):\\n    print(f\"{num} is prime number\")\\n\\nelse:\\n    print(f\"{num} is not a prime number\")'"
      ]
     },
     "execution_count": 11,
     "metadata": {},
     "output_type": "execute_result"
    }
   ],
   "source": [
    "'''def prime(n):\n",
    "    if n<=1:\n",
    "        return False\n",
    "    \n",
    "    for i in range(2,int(n**0.5)+1):\n",
    "        if n%i==0:\n",
    "            return False\n",
    "    return True\n",
    "\n",
    "\n",
    "\n",
    "num=int(input(\"Enter number: \"))\n",
    "if prime(num):\n",
    "    print(f\"{num} is prime number\")\n",
    "\n",
    "else:\n",
    "    print(f\"{num} is not a prime number\")'''"
   ]
  },
  {
   "cell_type": "code",
   "execution_count": null,
   "id": "a0d1cd36",
   "metadata": {},
   "outputs": [],
   "source": []
  },
  {
   "cell_type": "markdown",
   "id": "0e3f7dcc",
   "metadata": {},
   "source": [
    "Implement a stack and a queue using Python lists"
   ]
  },
  {
   "cell_type": "markdown",
   "id": "9f59cde7",
   "metadata": {},
   "source": [
    "Stack (LIFO)"
   ]
  },
  {
   "cell_type": "code",
   "execution_count": null,
   "id": "526369b9",
   "metadata": {},
   "outputs": [
    {
     "name": "stdout",
     "output_type": "stream",
     "text": [
      "pushed 10\n",
      "pushed 20\n",
      "pushed 30\n",
      "Top element: 30\n",
      "Popped: 30\n",
      "Stack size: 2\n"
     ]
    }
   ],
   "source": [
    "'''class Stack:\n",
    "    def __init__(self):\n",
    "        self.stack=[]\n",
    "\n",
    "    def push(self,item):\n",
    "        self.stack.append(item)\n",
    "        print(f\"pushed {item}\")\n",
    "\n",
    "    def pop(self):\n",
    "        if not self.is_empty():\n",
    "            return self.stack.pop()      # pop the last element\n",
    "        return \"Empty Stack\"\n",
    "    \n",
    "    def peek(self):\n",
    "        if not self.is_empty():\n",
    "            return self.stack[-1]\n",
    "        return \"Empty Stack\"\n",
    "    \n",
    "    def is_empty(self):\n",
    "        return len(self.stack)==0\n",
    "    \n",
    "    def size(self):\n",
    "        return len(self.stack)\n",
    "    \n",
    "\n",
    "\n",
    "s = Stack()\n",
    "s.push(10)\n",
    "s.push(20)\n",
    "s.push(30)\n",
    "print(\"Top element:\", s.peek())\n",
    "print(\"Popped:\", s.pop())\n",
    "print(\"Stack size:\", s.size())'''"
   ]
  },
  {
   "cell_type": "code",
   "execution_count": null,
   "id": "415c446e",
   "metadata": {},
   "outputs": [],
   "source": []
  },
  {
   "cell_type": "markdown",
   "id": "831285da",
   "metadata": {},
   "source": [
    "Queue (LIFO)"
   ]
  },
  {
   "cell_type": "code",
   "execution_count": null,
   "id": "2a4a52e6",
   "metadata": {},
   "outputs": [
    {
     "name": "stdout",
     "output_type": "stream",
     "text": [
      "10 pushed\n",
      "20 pushed\n",
      "30 pushed\n",
      "Front element: 10\n",
      "Dequeued: 10\n",
      "Queue size: 2\n"
     ]
    }
   ],
   "source": [
    "'''class Queue:\n",
    "    def __init__(self):\n",
    "        self.queue=[]\n",
    "\n",
    "    def enqueue(self,item):\n",
    "        self.queue.append(item)\n",
    "        print(f\"{item} pushed\")\n",
    "\n",
    "    def dequeue(self):\n",
    "        if not self.is_empty():\n",
    "            return self.queue.pop(0)      #pop the first element\n",
    "        return \"Empty Queue\"\n",
    "    \n",
    "    def peek(self):\n",
    "        if not self.is_empty():\n",
    "            return self.queue[0]\n",
    "        return \"Empty Queue\"\n",
    "    \n",
    "    def is_empty(self):\n",
    "        return len(self.queue)==0\n",
    "    \n",
    "    def size(self):\n",
    "        return len(self.queue)\n",
    "    \n",
    "\n",
    "q = Queue()\n",
    "q.enqueue(10)\n",
    "q.enqueue(20)\n",
    "q.enqueue(30)\n",
    "print(\"Front element:\", q.peek())\n",
    "print(\"Dequeued:\", q.dequeue())\n",
    "print(\"Queue size:\", q.size())'''"
   ]
  },
  {
   "cell_type": "code",
   "execution_count": null,
   "id": "19be78e7",
   "metadata": {},
   "outputs": [],
   "source": []
  },
  {
   "cell_type": "markdown",
   "id": "4097dbd3",
   "metadata": {},
   "source": [
    "Find duplicate numbers in a list"
   ]
  },
  {
   "cell_type": "code",
   "execution_count": null,
   "id": "7c468766",
   "metadata": {},
   "outputs": [
    {
     "name": "stdout",
     "output_type": "stream",
     "text": [
      "3 is Duplicate value\n",
      "4 is Duplicate value\n"
     ]
    }
   ],
   "source": [
    "'''def duplicate_lst(num):\n",
    "    \n",
    "    num_lst=list(str(num))  # convert number to list of digits as strings\n",
    "\n",
    "    for i in range(len(num_lst)):\n",
    "        for j in range(i+1,len(num_lst)):\n",
    "            if num_lst[i]==num_lst[j]:\n",
    "                print(f\"{num_lst[i]} is Duplicate value\")\n",
    "    return None       \n",
    "\n",
    "num1=123434\n",
    "duplicate_lst(num1)'''"
   ]
  },
  {
   "cell_type": "code",
   "execution_count": null,
   "id": "2e87a773",
   "metadata": {},
   "outputs": [],
   "source": []
  },
  {
   "cell_type": "markdown",
   "id": "a89132fc",
   "metadata": {},
   "source": [
    "Implement a decorator to measure the execution time of a function"
   ]
  },
  {
   "cell_type": "code",
   "execution_count": null,
   "id": "2783a5f1",
   "metadata": {},
   "outputs": [
    {
     "name": "stdout",
     "output_type": "stream",
     "text": [
      "Execution time: 0.034997 seconds\n",
      "Result: 499999500000\n"
     ]
    }
   ],
   "source": [
    "'''import time\n",
    "\n",
    "def timing_decorator(func):\n",
    "    def wrapper(*args, **kwargs):\n",
    "        start_time = time.time()           # record start time\n",
    "        result = func(*args, **kwargs)     # call the original function\n",
    "        end_time = time.time()             # record end time\n",
    "        print(f\"Execution time: {end_time - start_time:.6f} seconds\")\n",
    "        return result\n",
    "    return wrapper\n",
    "\n",
    "# Example usage\n",
    "@timing_decorator\n",
    "def slow_function():\n",
    "    total = 0\n",
    "    for i in range(1_000_000):\n",
    "        total += i\n",
    "    return total\n",
    "\n",
    "print(\"Result:\", slow_function())'''\n"
   ]
  },
  {
   "cell_type": "code",
   "execution_count": null,
   "id": "7f63e33e",
   "metadata": {},
   "outputs": [],
   "source": []
  },
  {
   "cell_type": "markdown",
   "id": "20803478",
   "metadata": {},
   "source": [
    "Write a generator that returns infinite even numbers"
   ]
  },
  {
   "cell_type": "code",
   "execution_count": null,
   "id": "e1a86c5a",
   "metadata": {},
   "outputs": [
    {
     "name": "stdout",
     "output_type": "stream",
     "text": [
      "setp 1\n",
      "10\n",
      "setp 2\n",
      "20\n"
     ]
    }
   ],
   "source": [
    "'''def generator_1():\n",
    "    print(\"setp 1\")\n",
    "    yield 10\n",
    "    print(\"setp 2\")\n",
    "    yield 20\n",
    "    print(\"setp 3\")\n",
    "    yield 30\n",
    "\n",
    "\n",
    "gen=generator_1()\n",
    "print(next(gen))\n",
    "print(next(gen))'''"
   ]
  },
  {
   "cell_type": "code",
   "execution_count": null,
   "id": "c270c909",
   "metadata": {},
   "outputs": [
    {
     "name": "stdout",
     "output_type": "stream",
     "text": [
      "0\n",
      "2\n",
      "4\n",
      "6\n",
      "8\n",
      "10\n",
      "12\n",
      "14\n",
      "16\n",
      "18\n"
     ]
    }
   ],
   "source": [
    "'''def even_number():\n",
    "    n=0\n",
    "    while True:\n",
    "        yield n\n",
    "        n += 2\n",
    "\n",
    "gen=even_number()\n",
    "for _ in range(10):\n",
    "    print(next(gen))'''"
   ]
  },
  {
   "cell_type": "code",
   "execution_count": null,
   "id": "d0998b28",
   "metadata": {},
   "outputs": [],
   "source": []
  },
  {
   "cell_type": "markdown",
   "id": "3e69b375",
   "metadata": {},
   "source": [
    "Write a function that flattens a nested list"
   ]
  },
  {
   "cell_type": "code",
   "execution_count": null,
   "id": "e6e98699",
   "metadata": {},
   "outputs": [
    {
     "name": "stdout",
     "output_type": "stream",
     "text": [
      "[1, 2, 3, 4, 5, 6, 7, 8, 9]\n"
     ]
    }
   ],
   "source": [
    "'''def flatten_list(nested_list):\n",
    "    for item in nested_list:\n",
    "        if isinstance(item,list):\n",
    "            yield from flatten_list(item)\n",
    "\n",
    "        else:\n",
    "            yield item\n",
    "\n",
    "\n",
    "data=[1, [2, [3, 4], 5], 6, [7, [8, [9]]]]\n",
    "print(list(flatten_list(data)))'''"
   ]
  },
  {
   "cell_type": "code",
   "execution_count": null,
   "id": "186ac2c6",
   "metadata": {},
   "outputs": [],
   "source": []
  },
  {
   "cell_type": "markdown",
   "id": "3333fb4d",
   "metadata": {},
   "source": [
    "Implement a basic class inheritance (e.g., Shape → Circle/Square)"
   ]
  },
  {
   "cell_type": "code",
   "execution_count": null,
   "id": "812ca007",
   "metadata": {},
   "outputs": [],
   "source": [
    "'''class Shape:\n",
    "    def __init__(self, color):\n",
    "        self.color = color\n",
    "\n",
    "    def area(self):\n",
    "        raise NotImplementedError(\"Subclasses must implement area() method\")\n",
    "\n",
    "    def perimeter(self):\n",
    "        raise NotImplementedError(\"Subclasses must implement perimeter() method\")'''"
   ]
  },
  {
   "cell_type": "code",
   "execution_count": null,
   "id": "57def0aa",
   "metadata": {},
   "outputs": [
    {
     "name": "stdout",
     "output_type": "stream",
     "text": [
      "Circle color: red, Area: 78.54, Perimeter: 31.42\n",
      "Square color: blue, Area: 16, Perimeter: 16\n"
     ]
    }
   ],
   "source": [
    "'''import math\n",
    "\n",
    "class Circle(Shape):\n",
    "    def __init__(self, color, radius):\n",
    "        super().__init__(color)  # call base class constructor\n",
    "        self.radius = radius\n",
    "\n",
    "    def area(self):\n",
    "        return math.pi * (self.radius ** 2)\n",
    "\n",
    "    def perimeter(self):\n",
    "        return 2 * math.pi * self.radius\n",
    "    \n",
    "\n",
    "class Square(Shape):\n",
    "    def __init__(self, color, side):\n",
    "        super().__init__(color)\n",
    "        self.side = side\n",
    "\n",
    "    def area(self):\n",
    "        return self.side ** 2\n",
    "\n",
    "    def perimeter(self):\n",
    "        return 4 * self.side\n",
    "    \n",
    "\n",
    "circle = Circle(\"red\", 5)\n",
    "square = Square(\"blue\", 4)\n",
    "\n",
    "print(f\"Circle color: {circle.color}, Area: {circle.area():.2f}, Perimeter: {circle.perimeter():.2f}\")\n",
    "print(f\"Square color: {square.color}, Area: {square.area()}, Perimeter: {square.perimeter()}\")\n",
    "'''"
   ]
  },
  {
   "cell_type": "code",
   "execution_count": null,
   "id": "70c8f05b",
   "metadata": {},
   "outputs": [],
   "source": []
  },
  {
   "cell_type": "markdown",
   "id": "438bffbb",
   "metadata": {},
   "source": [
    "Multiple Derived Classes (Vehicle → Car / Bike)"
   ]
  },
  {
   "cell_type": "code",
   "execution_count": null,
   "id": "d0c60b46",
   "metadata": {},
   "outputs": [
    {
     "name": "stdout",
     "output_type": "stream",
     "text": [
      "Toyota vehicle started \n",
      "Trunk Opened\n",
      "Yamaha vehicle started \n",
      "Bike Started\n"
     ]
    }
   ],
   "source": [
    "'''class Vehicle():\n",
    "    def __init__(self,brand):\n",
    "        self.brand=brand\n",
    "\n",
    "    def start(self):\n",
    "        print(f\"{self.brand} vehicle started \")\n",
    "\n",
    "class car(Vehicle):\n",
    "    def open_trunk(self):\n",
    "        print(\"Trunk Opened\")\n",
    "\n",
    "class bike(Vehicle):\n",
    "    def kick_start(self):\n",
    "        print(\"Bike Started\")\n",
    "\n",
    "\n",
    "car = car(\"Toyota\")\n",
    "car.start()\n",
    "car.open_trunk()\n",
    "\n",
    "bike = bike(\"Yamaha\")\n",
    "bike.start()\n",
    "bike.kick_start()'''"
   ]
  },
  {
   "cell_type": "code",
   "execution_count": null,
   "id": "93bf8657",
   "metadata": {},
   "outputs": [],
   "source": []
  },
  {
   "cell_type": "markdown",
   "id": "acf0ca30",
   "metadata": {},
   "source": [
    "Employee → Manager / Developer"
   ]
  },
  {
   "cell_type": "code",
   "execution_count": null,
   "id": "e85deaab",
   "metadata": {},
   "outputs": [],
   "source": [
    "'''class Employee:\n",
    "    def __init__(self,name,salary):\n",
    "        self.name=name\n",
    "        self.salary=salary\n",
    "\n",
    "    def view_profile(self):\n",
    "        print(f\"Name is {self.name}, Salary is {self.salary}\")\n",
    "     '''   \n",
    "\n"
   ]
  },
  {
   "cell_type": "code",
   "execution_count": null,
   "id": "69ea174f",
   "metadata": {},
   "outputs": [],
   "source": [
    "'''class Manager(Employee):\n",
    "    def __init__(self,name,salary,team_size):\n",
    "        super().__init__(name,salary)\n",
    "        self.team_size=team_size\n",
    "\n",
    "    def display(self):\n",
    "        super().view_profile()\n",
    "        print(f\"Team Size is {self.team_size}\")'''"
   ]
  },
  {
   "cell_type": "code",
   "execution_count": null,
   "id": "2574caf1",
   "metadata": {},
   "outputs": [],
   "source": [
    "'''class Developer(Employee):\n",
    "    def __init__(self,name,salary,prog_language):\n",
    "        super().__init__(name,salary)\n",
    "        self.prog_language=prog_language\n",
    "\n",
    "    def display(self):\n",
    "        super().view_profile()\n",
    "        print(f\"Programming Language {self.prog_language}\")'''"
   ]
  },
  {
   "cell_type": "code",
   "execution_count": null,
   "id": "0b3cc75b",
   "metadata": {},
   "outputs": [
    {
     "name": "stdout",
     "output_type": "stream",
     "text": [
      "Name is Sam, Salary is 500000\n",
      "Team Size is 10\n",
      "Name is om, Salary is 5000000\n",
      "Programming Language sql\n"
     ]
    }
   ],
   "source": [
    "'''m1=Manager('Sam',500000,10)\n",
    "m1.display()\n",
    "\n",
    "p1=Developer('om',5000000,'sql')\n",
    "p1.display()'''"
   ]
  },
  {
   "cell_type": "code",
   "execution_count": null,
   "id": "136bd9b1",
   "metadata": {},
   "outputs": [],
   "source": []
  },
  {
   "cell_type": "markdown",
   "id": "03d46f82",
   "metadata": {},
   "source": [
    "BankAccount → SavingsAccount\n",
    "\n",
    "BankAccount has deposit and withdraw.\n",
    "\n",
    "SavingsAccount overrides withdraw to prevent overdrawing.\n",
    "\n",
    "Add interest calculation method only in SavingsAccount."
   ]
  },
  {
   "cell_type": "code",
   "execution_count": null,
   "id": "c410bd3a",
   "metadata": {},
   "outputs": [],
   "source": [
    "'''class BankAccount:\n",
    "    def __init__(self, owner, balance=0.0):\n",
    "        self.owner = owner\n",
    "        self.balance = balance\n",
    "\n",
    "    def deposit(self, amount):\n",
    "        if amount > 0:\n",
    "            self.balance += amount\n",
    "            print(f\"Deposited {amount}. New balance: {self.balance}\")\n",
    "        else:\n",
    "            print(\"Deposit amount must be positive.\")\n",
    "\n",
    "    def withdraw(self, amount):\n",
    "        if amount > 0:\n",
    "            self.balance -= amount\n",
    "            print(f\"Withdrew {amount}. New balance: {self.balance}\")\n",
    "        else:\n",
    "            print(\"Withdrawal amount must be positive.\")\n",
    "\n",
    "    def display_balance(self):\n",
    "        print(f\"{self.owner}'s account balance: {self.balance}\")'''\n"
   ]
  },
  {
   "cell_type": "code",
   "execution_count": null,
   "id": "43b7573e",
   "metadata": {},
   "outputs": [],
   "source": [
    "'''class SavingsAccount(BankAccount):\n",
    "    def __init__(self, owner, balance=0.0, interest_rate=0.02):\n",
    "        super().__init__(owner, balance)\n",
    "        self.interest_rate = interest_rate\n",
    "\n",
    "    def withdraw(self, amount):\n",
    "        if amount > self.balance:\n",
    "            print(\"Withdrawal denied. Insufficient funds.\")\n",
    "        else:\n",
    "            super().withdraw(amount)  \n",
    "\n",
    "    def add_interest(self):\n",
    "        interest = self.balance * self.interest_rate\n",
    "        self.balance += interest\n",
    "        print(f\"Interest added: {interest}. New balance: {self.balance}\")'''"
   ]
  },
  {
   "cell_type": "code",
   "execution_count": null,
   "id": "716e1022",
   "metadata": {},
   "outputs": [
    {
     "name": "stdout",
     "output_type": "stream",
     "text": [
      "Alice's account balance: 1000\n",
      "Deposited 500. New balance: 1500\n",
      "Withdrew 200. New balance: 1300\n",
      "Withdrawal denied. Insufficient funds.\n",
      "Interest added: 65.0. New balance: 1365.0\n",
      "Alice's account balance: 1365.0\n"
     ]
    }
   ],
   "source": [
    "'''acc1 = SavingsAccount(\"Alice\", 1000, 0.05)\n",
    "\n",
    "acc1.display_balance()\n",
    "acc1.deposit(500)\n",
    "acc1.withdraw(200)\n",
    "acc1.withdraw(2000)  \n",
    "acc1.add_interest()\n",
    "acc1.display_balance()'''"
   ]
  },
  {
   "cell_type": "code",
   "execution_count": null,
   "id": "f30f54e9",
   "metadata": {},
   "outputs": [],
   "source": []
  },
  {
   "cell_type": "markdown",
   "id": "88b7e5e6",
   "metadata": {},
   "source": [
    "Hybrid → ElectricCar + PetrolCar\n",
    "\n",
    "Create ElectricCar with battery_capacity.\n",
    "\n",
    "Create PetrolCar with fuel_capacity.\n",
    "\n",
    "Create HybridCar inheriting from both, and resolve any constructor conflicts using super()."
   ]
  },
  {
   "cell_type": "code",
   "execution_count": null,
   "id": "f3401453",
   "metadata": {},
   "outputs": [],
   "source": [
    "'''class Car:\n",
    "    def __init__(self,color,**kwargs):\n",
    "        super().__init__(**kwargs)\n",
    "        self.color=color\n",
    "    \n",
    "    def display(self):\n",
    "        print(f\"Color is {self.color}\")\n",
    "\n",
    "class ElectricCar(Car):\n",
    "    def __init__(self, battery_capacity,**kwargs):\n",
    "        super().__init__(**kwargs)\n",
    "        self.battery_capacity=battery_capacity\n",
    "\n",
    "    def capacity(self):\n",
    "        super().display()\n",
    "        print(f\"Battery Capacity of EV is {self.battery_capacity}\")\n",
    "\n",
    "class PetrolCar(Car):\n",
    "    def __init__(self, fuel_capacity,**kwargs):\n",
    "        super().__init__(**kwargs)\n",
    "        self.fuel_capacity=fuel_capacity\n",
    "\n",
    "    def capacity(self):\n",
    "        super().display()\n",
    "        print(f\"Fuel Capacity of PetrolCar is {self.fuel_capacity}\")\n",
    "\n",
    "class HybridCar(ElectricCar,PetrolCar):\n",
    "    def __init__(self,color,battery_capacity,fuel_capacity):\n",
    "        super().__init__(color=color, battery_capacity=battery_capacity,fuel_capacity=fuel_capacity)\n",
    "\n",
    "    def display(self):\n",
    "        super().capacity()\n",
    "        print(f\"Fuel Capacity of PetrolCar is {self.fuel_capacity}\")'''\n"
   ]
  },
  {
   "cell_type": "code",
   "execution_count": null,
   "id": "d179b5c9",
   "metadata": {},
   "outputs": [
    {
     "name": "stdout",
     "output_type": "stream",
     "text": [
      "Color is Red\n",
      "Battery Capacity of EV is 200\n",
      "Fuel Capacity of PetrolCar is 1\n",
      "MRO (<class '__main__.HybridCar'>, <class '__main__.ElectricCar'>, <class '__main__.PetrolCar'>, <class '__main__.Car'>, <class 'object'>)\n"
     ]
    }
   ],
   "source": [
    "'''car1=HybridCar('Red',200,1)\n",
    "\n",
    "car1.display()\n",
    "print(\"MRO\",HybridCar.__mro__)'''"
   ]
  },
  {
   "cell_type": "code",
   "execution_count": null,
   "id": "5537f521",
   "metadata": {},
   "outputs": [],
   "source": []
  },
  {
   "cell_type": "markdown",
   "id": "27375a6d",
   "metadata": {},
   "source": [
    "Device → Phone, Camera\n",
    "\n",
    "Phone has call() method.\n",
    "\n",
    "Camera has take_photo() method.\n",
    "\n",
    "Smartphone inherits from both and can do both.\n",
    "\n",
    "Show what happens if both parents have the same method name."
   ]
  },
  {
   "cell_type": "code",
   "execution_count": null,
   "id": "04da9af4",
   "metadata": {},
   "outputs": [],
   "source": [
    "'''class Device:\n",
    "    def __init__(self,name):\n",
    "        self.name=name\n",
    "\n",
    "    def display(self):\n",
    "        print(f\"Name of the Device is {self.name}\")\n",
    "\n",
    "class Phone(Device):\n",
    "    def call_1(self):\n",
    "        super().display()\n",
    "        print(f\"You can call from device \")\n",
    "\n",
    "class Camera(Device):\n",
    "    def take_photo(self):\n",
    "        super().display()\n",
    "        print(f\"Can take a picture \")\n",
    "\n",
    "class SmartPhone(Phone,Camera):\n",
    "    def __init__(self, name):\n",
    "        super().__init__(name)'''\n",
    "\n"
   ]
  },
  {
   "cell_type": "code",
   "execution_count": null,
   "id": "1be7cc87",
   "metadata": {},
   "outputs": [
    {
     "name": "stdout",
     "output_type": "stream",
     "text": [
      "Name of the Device is lava\n",
      "You can call from device \n",
      "Name of the Device is lava\n",
      "Can take a picture \n"
     ]
    }
   ],
   "source": [
    "'''s1=SmartPhone(\"lava\")\n",
    "\n",
    "#s1.display()\n",
    "s1.call_1()\n",
    "s1.take_photo()'''"
   ]
  },
  {
   "cell_type": "code",
   "execution_count": null,
   "id": "1d19e005",
   "metadata": {},
   "outputs": [],
   "source": []
  },
  {
   "cell_type": "markdown",
   "id": "c1c677e1",
   "metadata": {},
   "source": [
    "University → Professor / Student / Staff\n",
    "\n",
    "Create base UniversityMember with name, id.\n",
    "\n",
    "Professors have courses_taught, Students have courses_enrolled.\n",
    "\n",
    "Add methods that demonstrate different behavior depending on type."
   ]
  },
  {
   "cell_type": "code",
   "execution_count": null,
   "id": "411b8c55",
   "metadata": {},
   "outputs": [],
   "source": [
    "'''class University_member:\n",
    "    def __init__(self,name,id):\n",
    "        self.name=name\n",
    "        self.id=id\n",
    "\n",
    "    def show_detail(self):\n",
    "        print(f\"Name: {self.name}, ID: {self.id}\")\n",
    "\n",
    "    def role_info(self):\n",
    "        print(\"University member role information\")\n",
    "\n",
    "class professor(University_member):\n",
    "    def __init__(self,name,id,course_taught):\n",
    "        super().__init__(name,id)\n",
    "        self.course_taught=course_taught\n",
    "\n",
    "    def role_info(self):\n",
    "        print(f\"Professor {self.name} teaches :{','.join(self.course_taught)}\")\n",
    "\n",
    "class student(University_member):\n",
    "    def __init__(self, name, id, course_enroll):\n",
    "        super().__init__(name, id)\n",
    "        self.course_enroll=course_enroll\n",
    "\n",
    "    def role_info(self):\n",
    "        print(f\"Student {self.name} enrolled to : {','.join(self.course_enroll)} course\")\n",
    "\n",
    "class staff(University_member):\n",
    "    def __init__(self,name,id,department):\n",
    "        super().__init__(name,id)\n",
    "        self.department=department\n",
    "\n",
    "    def role_info(self):\n",
    "        print(f\"Staff {self.name} works in : {','.join(self.department)}\")'''\n"
   ]
  },
  {
   "cell_type": "code",
   "execution_count": null,
   "id": "e482d390",
   "metadata": {},
   "outputs": [
    {
     "name": "stdout",
     "output_type": "stream",
     "text": [
      "Name: jay, ID: 1\n",
      "Professor jay teaches :Math,science\n",
      "----------------------------------------\n",
      "Name: OM, ID: 1\n",
      "Student OM enrolled to : Math,science course\n",
      "----------------------------------------\n",
      "Name: Suraj, ID: 1\n",
      "Staff Suraj works in : Math,science\n",
      "----------------------------------------\n"
     ]
    }
   ],
   "source": [
    "'''p1=professor(\"jay\",1,[\"Math\",\"science\"])\n",
    "s1=student(\"OM\",1,[\"Math\",\"science\"])\n",
    "st1=staff(\"Suraj\",1,[\"Math\",\"science\"])\n",
    "\n",
    "members = [p1,s1,st1]\n",
    "\n",
    "for m in members:\n",
    "    m.show_detail()\n",
    "    m.role_info()\n",
    "    print('-'*40)'''\n"
   ]
  },
  {
   "cell_type": "code",
   "execution_count": null,
   "id": "72d7c245",
   "metadata": {},
   "outputs": [],
   "source": []
  },
  {
   "cell_type": "markdown",
   "id": "923bcb2b",
   "metadata": {},
   "source": [
    "Payment → CreditCardPayment / PayPalPayment\n",
    "\n",
    "Create a common Payment class with pay(amount) method.\n",
    "\n",
    "Override in subclasses to display different messages.\n",
    "\n",
    "Create a function that accepts any Payment object and calls pay() (demonstrates polymorphism)."
   ]
  },
  {
   "cell_type": "code",
   "execution_count": null,
   "id": "fc7bbd26",
   "metadata": {},
   "outputs": [],
   "source": [
    "'''class Payment:\n",
    "    def pay(self,amount):\n",
    "        print(f\"Paid amount: {self.amount}\")\n",
    "\n",
    "class CreditCardPayment(Payment):        \n",
    "    def pay(self,amount):\n",
    "        print(f\"Amount ${amount} paid using Credit Card\")\n",
    "\n",
    "class PayPalPayment(Payment):\n",
    "    def pay(self,amount):\n",
    "        print(f\"Amount ${amount} paid using PayPal\")\n",
    "\n",
    "def process_payment(payment_obi,amount):\n",
    "    payment_obi.pay(amount)\n",
    "'''\n",
    "\n"
   ]
  },
  {
   "cell_type": "code",
   "execution_count": null,
   "id": "5e75ffca",
   "metadata": {},
   "outputs": [
    {
     "name": "stdout",
     "output_type": "stream",
     "text": [
      "Amount $2000 paid using Credit Card\n",
      "Amount $2000 paid using PayPal\n"
     ]
    }
   ],
   "source": [
    "'''credit=CreditCardPayment()\n",
    "paypal=PayPalPayment()\n",
    "\n",
    "process_payment(credit,2000)\n",
    "process_payment(paypal,2000)'''\n"
   ]
  },
  {
   "cell_type": "code",
   "execution_count": null,
   "id": "18ceb19e",
   "metadata": {},
   "outputs": [],
   "source": []
  },
  {
   "cell_type": "markdown",
   "id": "39eaca91",
   "metadata": {},
   "source": [
    "Polymorphism"
   ]
  },
  {
   "cell_type": "markdown",
   "id": "81a43ce3",
   "metadata": {},
   "source": [
    "Animal → Dog, Cat\n",
    "Create a base class Animal with a method sound().\n",
    "Override sound() in Dog and Cat classes to print different messages.\n",
    "Write a function that accepts any Animal and calls sound() (demonstrating polymorphism)."
   ]
  },
  {
   "cell_type": "code",
   "execution_count": null,
   "id": "81300b05",
   "metadata": {},
   "outputs": [],
   "source": [
    "'''class Animal:\n",
    "    def sound(self):\n",
    "        print(\"Some generic sound\")\n",
    "\n",
    "class Dog(Animal):\n",
    "    def sound(self):\n",
    "        print(\"Woof Woof\")\n",
    "\n",
    "class Cat(Animal):\n",
    "    def sound(self):\n",
    "        print(\"Meow Meow\")\n",
    "\n",
    "\n",
    "# Function to demonstrate polymorphism\n",
    "def make_sound(animal):\n",
    "    # This works for any subclass of Animal\n",
    "    animal.sound()'''"
   ]
  },
  {
   "cell_type": "code",
   "execution_count": null,
   "id": "51598356",
   "metadata": {},
   "outputs": [
    {
     "name": "stdout",
     "output_type": "stream",
     "text": [
      "Woof Woof\n",
      "Meow Meow\n"
     ]
    }
   ],
   "source": [
    "'''dog=Dog()\n",
    "cat=Cat()\n",
    "\n",
    "make_sound(dog)\n",
    "make_sound(cat)'''"
   ]
  },
  {
   "cell_type": "code",
   "execution_count": null,
   "id": "1bfed69f",
   "metadata": {},
   "outputs": [],
   "source": []
  },
  {
   "cell_type": "markdown",
   "id": "d1abcfe4",
   "metadata": {},
   "source": [
    "Create a base class Shape with a method area().\n",
    "Override area() in Circle and Rectangle to return their respective areas.\n",
    "Create a list of shapes and loop through them to call area() polymorphically."
   ]
  },
  {
   "cell_type": "code",
   "execution_count": null,
   "id": "6568421c",
   "metadata": {},
   "outputs": [],
   "source": [
    "'''import math\n",
    "\n",
    "class Shape:\n",
    "    def area(self):\n",
    "        raise NotImplementedError(\"Subclasses must implement this method\")\n",
    "\n",
    "class Circle(Shape):\n",
    "    def __init__(self,radius):\n",
    "        self.radius=radius\n",
    "\n",
    "    def area(self):\n",
    "        return math.pi*(self.radius**2)\n",
    "\n",
    "class Rectangle(Shape):\n",
    "    def __init__(self,length,breadth):\n",
    "        self.length=length\n",
    "        self.breadth=breadth\n",
    "\n",
    "    def area(self):\n",
    "        return self.length*self.breadth\n",
    "'''\n"
   ]
  },
  {
   "cell_type": "code",
   "execution_count": 32,
   "id": "7b293b38",
   "metadata": {},
   "outputs": [
    {
     "data": {
      "text/plain": [
       "'shapes=[Circle(5),Rectangle(2,5),Rectangle(5,4),Circle(6)]\\n\\nfor shape in shapes:\\n    print(f\"Ares of the shape is: {shape.area():.2f}\") '"
      ]
     },
     "execution_count": 32,
     "metadata": {},
     "output_type": "execute_result"
    }
   ],
   "source": [
    "'''shapes=[Circle(5),Rectangle(2,5),Rectangle(5,4),Circle(6)]\n",
    "\n",
    "for shape in shapes:\n",
    "    print(f\"Ares of the shape is: {shape.area():.2f}\") '''"
   ]
  },
  {
   "cell_type": "code",
   "execution_count": null,
   "id": "9e2f5a67",
   "metadata": {},
   "outputs": [],
   "source": []
  },
  {
   "cell_type": "markdown",
   "id": "bff3dbce",
   "metadata": {},
   "source": [
    "Employee → Manager, Developer\n",
    "Base class Employee has calculate_salary() method.\n",
    "\n",
    "Manager adds incentives.\n",
    "\n",
    "Developer adds overtime pay.\n",
    "Create a function to calculate salaries of any employee list without checking their types explicitly."
   ]
  },
  {
   "cell_type": "code",
   "execution_count": null,
   "id": "53bc34c8",
   "metadata": {},
   "outputs": [],
   "source": [
    "'''class Employee:\n",
    "    def __init__(self,name,salary):\n",
    "        self.name=name\n",
    "        self.salary=salary\n",
    "\n",
    "    def calculate_salary(self):\n",
    "        raise NotImplementedError(\"Subclasses must implement this method\")\n",
    "    \n",
    "class Manager(Employee):\n",
    "    def __init__(self,name,salary,incentive):\n",
    "        super().__init__(name,salary)\n",
    "        self.incentive=incentive\n",
    "\n",
    "    def calculate_salary(self):\n",
    "        return self.salary + self.incentive\n",
    "    \n",
    "class Developer(Employee):\n",
    "    def __init__(self,name,salary,ot):\n",
    "        super().__init__(name,salary)\n",
    "        self.ot=ot\n",
    "\n",
    "    def calculate_salary(self):\n",
    "        return self.salary + self.ot\n",
    "    \n",
    "def calculateallsalary(employees):\n",
    "\n",
    "    for emp in employees:\n",
    "        print(f\"{emp.name}'s salary is {emp.calculate_salary()}\") '''"
   ]
  },
  {
   "cell_type": "code",
   "execution_count": null,
   "id": "f581d565",
   "metadata": {},
   "outputs": [
    {
     "name": "stdout",
     "output_type": "stream",
     "text": [
      "jay's salary is 205000\n",
      "om's salary is 500300\n"
     ]
    }
   ],
   "source": [
    "'''empl=[\n",
    "    Manager('jay',200000,5000),\n",
    "    Developer('om',500000,300)\n",
    "]\n",
    "\n",
    "calculateallsalary(empl)'''\n"
   ]
  },
  {
   "cell_type": "code",
   "execution_count": null,
   "id": "15bd8184",
   "metadata": {},
   "outputs": [],
   "source": []
  },
  {
   "cell_type": "markdown",
   "id": "9296128f",
   "metadata": {},
   "source": [
    "MediaPlayer → AudioPlayer, VideoPlayer\n",
    "Define a base class MediaPlayer with a method play().\n",
    "Override it to show different messages for audio and video.\n",
    "Demonstrate polymorphism by storing them in a single list and playing them all."
   ]
  },
  {
   "cell_type": "code",
   "execution_count": null,
   "id": "5f85119a",
   "metadata": {},
   "outputs": [],
   "source": [
    "'''class MediaPlayer:\n",
    "    def play(self):\n",
    "        raise NotImplementedError(\"Subclasses must implement the play() method\")\n",
    "\n",
    "class AudioPlayer(MediaPlayer):\n",
    "    def play(slef):\n",
    "        print(\"Play the audio\")\n",
    "\n",
    "class VideoPlayer(MediaPlayer):\n",
    "    def play(self):\n",
    "        print(\"play the video\")\n",
    "\n",
    "def playboth(media):\n",
    "    for md in media:\n",
    "        md.play()'''"
   ]
  },
  {
   "cell_type": "code",
   "execution_count": null,
   "id": "78a08270",
   "metadata": {},
   "outputs": [
    {
     "name": "stdout",
     "output_type": "stream",
     "text": [
      "Play the audio\n",
      "play the video\n"
     ]
    }
   ],
   "source": [
    "'''md1=[ AudioPlayer(),VideoPlayer()]\n",
    "\n",
    "playboth(md1)'''"
   ]
  },
  {
   "cell_type": "code",
   "execution_count": null,
   "id": "d3d6a659",
   "metadata": {},
   "outputs": [],
   "source": []
  },
  {
   "cell_type": "markdown",
   "id": "456798ae",
   "metadata": {},
   "source": [
    "Transport → Car, Bike, Bus\n",
    "Create a base class Transport with max_speed() method.\n",
    "Override in all subclasses.\n",
    "Write a function to print max speed of all transports using a single interface."
   ]
  },
  {
   "cell_type": "code",
   "execution_count": null,
   "id": "8702e1a6",
   "metadata": {},
   "outputs": [],
   "source": [
    "'''class Transport:\n",
    "    def max_speed(self):\n",
    "        raise NotImplementedError(\"Subclasses must implement the max_speed() method\")\n",
    "\n",
    "class Car(Transport):\n",
    "    def max_speed(self):\n",
    "        print(\"250 km/hr is the maximum speed of a car\")\n",
    "\n",
    "class Bike(Transport):\n",
    "    def max_speed(self):\n",
    "        print(\"150 km/hr is the maximum speed of a bike\")\n",
    "\n",
    "class Bus(Transport):\n",
    "    def max_speed(self):\n",
    "        print(\"120 km/hr is the maximum speed of a bus\")\n",
    "\n",
    "def all_transport(transport):\n",
    "    for trans in transport:\n",
    "        trans.max_speed()\n",
    "'''"
   ]
  },
  {
   "cell_type": "code",
   "execution_count": null,
   "id": "23d200af",
   "metadata": {},
   "outputs": [
    {
     "name": "stdout",
     "output_type": "stream",
     "text": [
      "250 km/hr is the maximum speed of a car\n",
      "150 km/hr is the maximum speed of a bike\n",
      "120 km/hr is the maximum speed of a bus\n"
     ]
    }
   ],
   "source": [
    "'''vehicles = [Car(), Bike(), Bus()]\n",
    "all_transport(vehicles)'''\n"
   ]
  },
  {
   "cell_type": "code",
   "execution_count": null,
   "id": "5947a888",
   "metadata": {},
   "outputs": [],
   "source": []
  },
  {
   "cell_type": "markdown",
   "id": "7e6fc92c",
   "metadata": {},
   "source": [
    "Payment → CreditCard, PayPal, UPI All have make_payment() method. Demonstrate polymorphism using a factory function that returns different payment objects dynamically."
   ]
  },
  {
   "cell_type": "code",
   "execution_count": null,
   "id": "7fc68771",
   "metadata": {},
   "outputs": [],
   "source": [
    "'''class Payment:\n",
    "    def make_payment(self,amount):\n",
    "        raise NotImplementedError(\"Subclasses must implement the make_payment() method\")\n",
    "    \n",
    "class CreditCard(Payment):\n",
    "    def make_payment(self,amount):\n",
    "        print(f\"{amount} is paide through CreditCard\")\n",
    "\n",
    "class PayPal(Payment):\n",
    "    def make_payment(self, amount):\n",
    "        print(f\"{amount} is paide through PayPal\")\n",
    "\n",
    "class UPI(Payment):\n",
    "    def make_payment(self, amount):\n",
    "        print(f\"{amount} is paide through CreditCard\")\n",
    "\n",
    "def payment_factory(pmode):\n",
    "    if pmode=='credit':\n",
    "        return CreditCard()\n",
    "    elif pmode=='paypal':\n",
    "        return PayPal()\n",
    "    elif pmode=='upi':\n",
    "        return UPI()\n",
    "    else:\n",
    "        print(\"Invalid input\")'''"
   ]
  },
  {
   "cell_type": "code",
   "execution_count": null,
   "id": "3eefd175",
   "metadata": {},
   "outputs": [
    {
     "name": "stdout",
     "output_type": "stream",
     "text": [
      "50000 is paide through CreditCard\n",
      "50000 is paide through PayPal\n",
      "50000 is paide through CreditCard\n"
     ]
    }
   ],
   "source": [
    "'''payments=[ payment_factory('credit'),\n",
    "           payment_factory('paypal'),\n",
    "           payment_factory('upi')\n",
    "           ]\n",
    "\n",
    "\n",
    "for payment in payments:\n",
    "    payment.make_payment(50000)'''"
   ]
  },
  {
   "cell_type": "code",
   "execution_count": null,
   "id": "ac587412",
   "metadata": {},
   "outputs": [],
   "source": []
  },
  {
   "cell_type": "markdown",
   "id": "94265ebc",
   "metadata": {},
   "source": [
    "Device → Printer, Scanner, Fax\n",
    "Add a common method connect() but override differently.\n",
    "If multiple classes have a method with the same name but different behavior, show how Python resolves method calls when these are combined using multiple inheritance."
   ]
  },
  {
   "cell_type": "code",
   "execution_count": null,
   "id": "3beb483b",
   "metadata": {},
   "outputs": [],
   "source": [
    "'''class Printer:\n",
    "    def connect(self):\n",
    "        print(\"Connect through bluetooth\")\n",
    "\n",
    "class Scanner:\n",
    "    def connect(self):\n",
    "        print(\"Connect through USB\")\n",
    "\n",
    "class Fax:\n",
    "    def connect(self):\n",
    "        print(\"Connect through wire\")\n",
    "\n",
    "class multifunctiodevice(Printer,Scanner,Fax):\n",
    "    pass'''"
   ]
  },
  {
   "cell_type": "code",
   "execution_count": null,
   "id": "1384160e",
   "metadata": {},
   "outputs": [
    {
     "name": "stdout",
     "output_type": "stream",
     "text": [
      "Connect through bluetooth\n"
     ]
    }
   ],
   "source": [
    "'''device=multifunctiodevice()\n",
    "device.connect()'''"
   ]
  },
  {
   "cell_type": "code",
   "execution_count": null,
   "id": "6fe5e752",
   "metadata": {},
   "outputs": [
    {
     "name": "stdout",
     "output_type": "stream",
     "text": [
      "[<class '__main__.multifunctiodevice'>, <class '__main__.Printer'>, <class '__main__.Scanner'>, <class '__main__.Fax'>, <class 'object'>]\n"
     ]
    }
   ],
   "source": [
    "'''print(multifunctiodevice.mro())'''"
   ]
  },
  {
   "cell_type": "code",
   "execution_count": null,
   "id": "58cabf4e",
   "metadata": {},
   "outputs": [],
   "source": []
  },
  {
   "cell_type": "markdown",
   "id": "c9bb7124",
   "metadata": {},
   "source": [
    "Operator Overloading Example\n",
    "Create a class Vector with __add__() and __mul__() methods to add and multiply vectors.\n",
    "Show how operator overloading is a form of polymorphism."
   ]
  },
  {
   "cell_type": "code",
   "execution_count": null,
   "id": "f088c825",
   "metadata": {},
   "outputs": [],
   "source": [
    "'''class Vector:\n",
    "    def __init__(self,x,y):\n",
    "        self.x=x\n",
    "        self.y=y\n",
    "\n",
    "    def __add__(self,other):\n",
    "        return Vector(self.x + other.x, self.y+other.y)\n",
    "    \n",
    "    def __mul__(self,scaler):\n",
    "        return Vector(self.x * scaler, self.y * scaler)\n",
    "    \n",
    "    def __str__(self):\n",
    "        return f\"({self.x},{self.y})\"\n",
    "    \n",
    "    \n",
    "'''"
   ]
  },
  {
   "cell_type": "code",
   "execution_count": null,
   "id": "34360b1a",
   "metadata": {},
   "outputs": [
    {
     "name": "stdout",
     "output_type": "stream",
     "text": [
      "v1+v2= (6,8)\n",
      "v1*3= (6,9)\n"
     ]
    }
   ],
   "source": [
    "'''v1=Vector(3,3)\n",
    "v2=Vector(4,5)\n",
    "\n",
    "v3 = v1 + v2\n",
    "v4 = v1 * 3\n",
    "\n",
    "print(\"v1+v2=\",v3)\n",
    "print(\"v1*3=\",v4)'''"
   ]
  },
  {
   "cell_type": "code",
   "execution_count": null,
   "id": "5c236111",
   "metadata": {},
   "outputs": [],
   "source": []
  },
  {
   "cell_type": "markdown",
   "id": "c2d4ff75",
   "metadata": {},
   "source": [
    "Abstract Base Class Example\n",
    "Use abc module to make an abstract base class Account with an abstract method calculate_interest().\n",
    "Implement in SavingsAccount and CurrentAccount to demonstrate compile-time enforced polymorphism."
   ]
  },
  {
   "cell_type": "code",
   "execution_count": null,
   "id": "a40ad0f5",
   "metadata": {},
   "outputs": [],
   "source": [
    "'''from abc import ABC, abstractmethod\n",
    "\n",
    "class Account(ABC):\n",
    "    def calculate_interest(self):\n",
    "        pass\n",
    "\n",
    "class SavingsAccount(Account):\n",
    "    def __init__(self,balance,rate):\n",
    "        self.balance=balance\n",
    "        self.rate=rate\n",
    "\n",
    "    def calculate_interest(self):\n",
    "        return self.balance * self.rate /100\n",
    "\n",
    "class CurrentAccount(Account):\n",
    "    def __init__(self,balance,rate):\n",
    "        self.balance=balance\n",
    "        self.rate=rate\n",
    "\n",
    "    def calculate_interest(self):\n",
    "        return (self.balance * self.rate / 100) / 2'''"
   ]
  },
  {
   "cell_type": "code",
   "execution_count": null,
   "id": "80f4e11b",
   "metadata": {},
   "outputs": [
    {
     "name": "stdout",
     "output_type": "stream",
     "text": [
      "Saving Interest 500.0\n",
      "Saving Interest 300.0\n"
     ]
    }
   ],
   "source": [
    "'''saving= SavingsAccount(10000,5)\n",
    "current=CurrentAccount(20000,3)\n",
    "\n",
    "print(\"Saving Interest\",saving.calculate_interest())\n",
    "print(\"Saving Interest\",current.calculate_interest())'''"
   ]
  },
  {
   "cell_type": "code",
   "execution_count": null,
   "id": "d473dfdd",
   "metadata": {},
   "outputs": [],
   "source": []
  },
  {
   "cell_type": "markdown",
   "id": "bc740aae",
   "metadata": {},
   "source": [
    "Duck Typing\n",
    "Create two unrelated classes that both implement a method fly().\n",
    "Write a function make_it_fly(obj) that accepts any object with a fly() method without caring about its type.\n",
    "Demonstrate Python’s dynamic polymorphism."
   ]
  },
  {
   "cell_type": "code",
   "execution_count": null,
   "id": "1991cae2",
   "metadata": {},
   "outputs": [],
   "source": [
    "'''class AB:\n",
    "    def fly(self):\n",
    "        print(\"Fly in air\")\n",
    "\n",
    "class BC:\n",
    "    def fly(self):\n",
    "        print(\"Fly in sky\")\n",
    "\n",
    "def make_it_fly(flying):\n",
    "    return flying.fly()'''"
   ]
  },
  {
   "cell_type": "code",
   "execution_count": null,
   "id": "3e708545",
   "metadata": {},
   "outputs": [
    {
     "name": "stdout",
     "output_type": "stream",
     "text": [
      "Fly in air\n",
      "Fly in sky\n"
     ]
    }
   ],
   "source": [
    "'''f1=AB()\n",
    "f2=BC()\n",
    "\n",
    "make_it_fly(f1)\n",
    "make_it_fly(f2)'''"
   ]
  },
  {
   "cell_type": "code",
   "execution_count": null,
   "id": "223c9279",
   "metadata": {},
   "outputs": [],
   "source": []
  },
  {
   "cell_type": "markdown",
   "id": "ba898844",
   "metadata": {},
   "source": [
    "Implement a stack using a Python list class with push, pop, peek methods."
   ]
  },
  {
   "cell_type": "code",
   "execution_count": null,
   "id": "16489bc4",
   "metadata": {},
   "outputs": [],
   "source": [
    "'''class Stack:\n",
    "    def __init__(self):\n",
    "        self.item=[]\n",
    "\n",
    "    def push(self,items):\n",
    "        self.item.append(items)\n",
    "        print(f\"Pushed {items} in list\")\n",
    "\n",
    "    def pop(self):\n",
    "\n",
    "        if not self.is_empty():\n",
    "            poped_item=self.item.pop()\n",
    "            print(f\"Poped {poped_item} from list\")\n",
    "\n",
    "        else:\n",
    "            print(\"List is empty!\")\n",
    "            return None\n",
    "\n",
    "    def peek(self):\n",
    "\n",
    "        if not self.is_empty():\n",
    "           return self.item[-1]\n",
    "        else:\n",
    "            print(\"List is empty\")\n",
    "            return None\n",
    "        \n",
    "    def is_empty(self):\n",
    "        return len(self.item)==0\n",
    "    \n",
    "    def size(self):\n",
    "        return len(self.item)\n",
    "'''"
   ]
  },
  {
   "cell_type": "code",
   "execution_count": null,
   "id": "878aeb9b",
   "metadata": {},
   "outputs": [
    {
     "name": "stdout",
     "output_type": "stream",
     "text": [
      "Pushed 20 in list\n",
      "Pushed 50 in list\n",
      "Pushed 30 in list\n",
      "Top element is: 30\n",
      "Poped 30 from list\n",
      "Top element is now: 50\n",
      "Stack size: 2\n"
     ]
    }
   ],
   "source": [
    "'''stack=Stack()\n",
    "\n",
    "stack.push(20)\n",
    "stack.push(50)\n",
    "stack.push(30)\n",
    "\n",
    "print(\"Top element is:\", stack.peek())  # Should print 30\n",
    "stack.pop()                            # Removes 30\n",
    "print(\"Top element is now:\", stack.peek())  # Should print 20\n",
    "print(\"Stack size:\", stack.size())'''"
   ]
  },
  {
   "cell_type": "code",
   "execution_count": null,
   "id": "6141c497",
   "metadata": {},
   "outputs": [],
   "source": []
  },
  {
   "cell_type": "markdown",
   "id": "a15d23ac",
   "metadata": {},
   "source": [
    "Implement a queue class using collections.deque."
   ]
  },
  {
   "cell_type": "code",
   "execution_count": null,
   "id": "07ce2ae8",
   "metadata": {},
   "outputs": [],
   "source": [
    "'''from collections import deque\n",
    "\n",
    "class MyQueue:\n",
    "    def __init__(self):\n",
    "        self.dq=deque()\n",
    "\n",
    "    def is_empty(self):\n",
    "        return len(self.dq) == 0\n",
    "\n",
    "    def enqueue(self,item):\n",
    "        self.dq.append(item)\n",
    "        print(f\"Pushed {item} item in list\")\n",
    "    \n",
    "    def enqueueleft(self,item):\n",
    "        self.dq.appendleft(item)\n",
    "        print(f\"Pushed {item} from left list\")\n",
    "    \n",
    "    def dequeue(self):\n",
    "        if not self.is_empty():\n",
    "            poped_item=self.dq.pop()\n",
    "            print(f\"Poped {poped_item} from list\")\n",
    "\n",
    "        else:\n",
    "            print(\"List is empty!\")\n",
    "            return None\n",
    "        \n",
    "    def dequeueleft(self):\n",
    "        if not self.is_empty():\n",
    "            poped_item=self.dq.popleft()\n",
    "            print(f\"Poped {poped_item} from list\")\n",
    "\n",
    "        else:\n",
    "            print(\"List is empty!\")\n",
    "            return None\n",
    "        \n",
    "    def peek(self):\n",
    "        if not self.is_empty():\n",
    "            return self.dq[0]\n",
    "        else:\n",
    "            print(\"Queue is empty!\")\n",
    "            return None'''"
   ]
  },
  {
   "cell_type": "code",
   "execution_count": null,
   "id": "b50855a0",
   "metadata": {},
   "outputs": [
    {
     "name": "stdout",
     "output_type": "stream",
     "text": [
      "Pushed 10 item in list\n",
      "Pushed 20 item in list\n",
      "Pushed 30 item in list\n",
      "Front element: 10\n",
      "Poped 30 from list\n",
      "Poped 20 from list\n",
      "Poped 10 from list\n",
      "List is empty!\n"
     ]
    }
   ],
   "source": [
    "'''q = MyQueue()\n",
    "q.enqueue(10)\n",
    "q.enqueue(20)\n",
    "q.enqueue(30)\n",
    "print(\"Front element:\", q.peek())\n",
    "q.dequeue()\n",
    "q.dequeue()\n",
    "q.dequeue()\n",
    "q.dequeue()'''"
   ]
  },
  {
   "cell_type": "code",
   "execution_count": null,
   "id": "5481c7d1",
   "metadata": {},
   "outputs": [],
   "source": []
  },
  {
   "cell_type": "markdown",
   "id": "230c3c5f",
   "metadata": {},
   "source": [
    "Write a program to reverse a linked list (using a custom Node class)."
   ]
  },
  {
   "cell_type": "code",
   "execution_count": null,
   "id": "c8720e08",
   "metadata": {},
   "outputs": [
    {
     "name": "stdout",
     "output_type": "stream",
     "text": [
      "Original Linked List:\n",
      "10 -> 20 -> 30 -> 40 -> None\n",
      "Reversed Linked List:\n",
      "40 -> 30 -> 20 -> 10 -> None\n"
     ]
    }
   ],
   "source": [
    "'''class Node:\n",
    "    def __init__(self,data):\n",
    "        self.data=data\n",
    "        self.next=None\n",
    "    \n",
    "class LinkedList:\n",
    "    def __init__(self):\n",
    "        self.head=None\n",
    "\n",
    "    def append(self,data):\n",
    "        new_node=Node(data)\n",
    "        if not self.head:\n",
    "            self.head=new_node\n",
    "            return\n",
    "        current=self.head\n",
    "        while current.next:\n",
    "            current=current.next\n",
    "        current.next =new_node\n",
    "\n",
    "    def display(self):\n",
    "        current = self.head\n",
    "        while current:\n",
    "            print(current.data, end=\" -> \")\n",
    "            current = current.next\n",
    "        print(\"None\")\n",
    "\n",
    "    def reverse(self):\n",
    "        perv=None\n",
    "        current=self.head\n",
    "        while current:\n",
    "            nxt=current.next\n",
    "            current.next=perv \n",
    "            perv=current\n",
    "            current=nxt\n",
    "        self.head=perv\n",
    "\n",
    "\n",
    "ll = LinkedList()\n",
    "ll.append(10)\n",
    "ll.append(20)\n",
    "ll.append(30)\n",
    "ll.append(40)\n",
    "\n",
    "print(\"Original Linked List:\")\n",
    "ll.display()\n",
    "\n",
    "ll.reverse()\n",
    "print(\"Reversed Linked List:\")\n",
    "ll.display()'''"
   ]
  },
  {
   "cell_type": "code",
   "execution_count": null,
   "id": "ef22c85a",
   "metadata": {},
   "outputs": [],
   "source": []
  },
  {
   "cell_type": "markdown",
   "id": "0a114823",
   "metadata": {},
   "source": [
    "4. Find the first non-repeating character in a string using a dictionary.\n"
   ]
  },
  {
   "cell_type": "code",
   "execution_count": null,
   "id": "f16cac47",
   "metadata": {},
   "outputs": [
    {
     "name": "stdout",
     "output_type": "stream",
     "text": [
      "First Non-repeating customer: d\n"
     ]
    }
   ],
   "source": [
    "'''def non_repeating(s:str):\n",
    "\n",
    "    freq={}\n",
    "\n",
    "    for ch in s:\n",
    "        freq[ch]=freq.get(ch,0)+1\n",
    "\n",
    "    for ch in s:\n",
    "        if freq[ch]==1:\n",
    "            return ch\n",
    "    \n",
    "    return None\n",
    "\n",
    "\n",
    "s='abbccadeefgh'\n",
    "result=non_repeating(s)\n",
    "print(\"First Non-repeating customer:\", result)'''"
   ]
  },
  {
   "cell_type": "code",
   "execution_count": null,
   "id": "ec9199b7",
   "metadata": {},
   "outputs": [],
   "source": []
  },
  {
   "cell_type": "markdown",
   "id": "af5c2fb4",
   "metadata": {},
   "source": [
    "Given an array of integers nums and an integer target, return the indices i and j such that nums[i] + nums[j] == target and i != j.\n",
    "You may assume that every input has exactly one pair of indices i and j that satisfy the condition.\n",
    "Return the answer with the smaller index first."
   ]
  },
  {
   "cell_type": "code",
   "execution_count": 5,
   "id": "ebb6971b",
   "metadata": {},
   "outputs": [],
   "source": [
    "from typing import List\n",
    "class solution:\n",
    "    def twoSum(self, nums: List[int], target: int) -> List[int]:\n",
    "        mylst=[]\n",
    "        for i in range(len(nums)):\n",
    "            for j in range(i+1,len(nums)):\n",
    "                if nums[i]+nums[j]==target:\n",
    "                    mylst.append(i)\n",
    "                    mylst.append(j)\n",
    "                    return mylst\n",
    "                \n",
    "        return []"
   ]
  },
  {
   "cell_type": "code",
   "execution_count": 6,
   "id": "073e6ff0",
   "metadata": {},
   "outputs": [
    {
     "name": "stdout",
     "output_type": "stream",
     "text": [
      "[0, 3]\n"
     ]
    }
   ],
   "source": [
    "s1=solution()\n",
    "\n",
    "ans=s1.twoSum([2,3,4,5],7)\n",
    "\n",
    "print(ans)"
   ]
  },
  {
   "cell_type": "code",
   "execution_count": null,
   "id": "1b7c860f",
   "metadata": {},
   "outputs": [],
   "source": []
  },
  {
   "cell_type": "markdown",
   "id": "1113c7f0",
   "metadata": {},
   "source": [
    "Given two strings s and t, return true if the two strings are anagrams of each other, otherwise return false.\n",
    "An anagram is a string that contains the exact same characters as another string, but the order of the characters can be different."
   ]
  },
  {
   "cell_type": "code",
   "execution_count": 2,
   "id": "3da445b6",
   "metadata": {},
   "outputs": [],
   "source": [
    "class solution1:\n",
    "    def isAnagram(self, s: str, t: str) -> bool:\n",
    "        return sorted(s) == sorted(t)"
   ]
  },
  {
   "cell_type": "code",
   "execution_count": 3,
   "id": "8222710a",
   "metadata": {},
   "outputs": [
    {
     "name": "stdout",
     "output_type": "stream",
     "text": [
      "True\n"
     ]
    }
   ],
   "source": [
    "s1=solution1()\n",
    "\n",
    "ans=s1.isAnagram('silent','listen')\n",
    "\n",
    "print(ans)"
   ]
  },
  {
   "cell_type": "code",
   "execution_count": null,
   "id": "86b1e8ef",
   "metadata": {},
   "outputs": [],
   "source": []
  },
  {
   "cell_type": "markdown",
   "id": "9b77e5d1",
   "metadata": {},
   "source": [
    "You are given an integer array nums of length n. Create an array ans of length 2n where ans[i] == nums[i] and ans[i + n] == nums[i] for 0 <= i < n (0-indexed).\n",
    "Specifically, ans is the concatenation of two nums arrays.\n",
    "Return the array ans.\n",
    "Example 1:\n",
    "Input: nums = [1,4,1,2]\n",
    "Output: [1,4,1,2,1,4,1,2]\n"
   ]
  },
  {
   "cell_type": "code",
   "execution_count": 4,
   "id": "11702c51",
   "metadata": {},
   "outputs": [],
   "source": [
    "from typing import List\n",
    "class Solution2:\n",
    "    def getConcatenation(self, nums: List[int]) -> List[int]:\n",
    "        ans=[]\n",
    "        for i in range(2):\n",
    "            for n in nums:\n",
    "                ans.append(n)\n",
    "        return ans\n"
   ]
  },
  {
   "cell_type": "code",
   "execution_count": 5,
   "id": "cca108ef",
   "metadata": {},
   "outputs": [
    {
     "data": {
      "text/plain": [
       "[2, 3, 4, 5, 2, 3, 4, 5]"
      ]
     },
     "execution_count": 5,
     "metadata": {},
     "output_type": "execute_result"
    }
   ],
   "source": [
    "s1=Solution2()\n",
    "\n",
    "s1.getConcatenation([2,3,4,5])"
   ]
  },
  {
   "cell_type": "code",
   "execution_count": null,
   "id": "b7aa5756",
   "metadata": {},
   "outputs": [],
   "source": []
  },
  {
   "cell_type": "markdown",
   "id": "d2d51b91",
   "metadata": {},
   "source": [
    "Given an integer array nums, return true if any value appears more than once in the array, otherwise return false."
   ]
  },
  {
   "cell_type": "code",
   "execution_count": 6,
   "id": "7055d995",
   "metadata": {},
   "outputs": [],
   "source": [
    "class Solution3:\n",
    "    def hasDuplicate(self, nums: List[int]) -> bool:\n",
    "        for i in range(len(nums)):\n",
    "            for j in range(i + 1, len(nums)):\n",
    "                if nums[i] == nums[j]:\n",
    "                    return True\n",
    "        return False\n"
   ]
  },
  {
   "cell_type": "code",
   "execution_count": 7,
   "id": "1d7c9df2",
   "metadata": {},
   "outputs": [
    {
     "name": "stdout",
     "output_type": "stream",
     "text": [
      "True\n"
     ]
    }
   ],
   "source": [
    "s1=Solution3()\n",
    "\n",
    "ans=s1.hasDuplicate([2,3,4,5,2])\n",
    "\n",
    "print(ans)"
   ]
  },
  {
   "cell_type": "code",
   "execution_count": null,
   "id": "3e0c46ba",
   "metadata": {},
   "outputs": [],
   "source": []
  }
 ],
 "metadata": {
  "kernelspec": {
   "display_name": "Python 3",
   "language": "python",
   "name": "python3"
  },
  "language_info": {
   "codemirror_mode": {
    "name": "ipython",
    "version": 3
   },
   "file_extension": ".py",
   "mimetype": "text/x-python",
   "name": "python",
   "nbconvert_exporter": "python",
   "pygments_lexer": "ipython3",
   "version": "3.12.10"
  }
 },
 "nbformat": 4,
 "nbformat_minor": 5
}
